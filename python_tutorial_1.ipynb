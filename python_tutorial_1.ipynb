{
  "nbformat": 4,
  "nbformat_minor": 0,
  "metadata": {
    "colab": {
      "name": "python_tutorial_1.ipynb",
      "provenance": []
    },
    "kernelspec": {
      "display_name": "Python 3",
      "language": "python",
      "name": "python3"
    },
    "language_info": {
      "codemirror_mode": {
        "name": "ipython",
        "version": 3
      },
      "file_extension": ".py",
      "mimetype": "text/x-python",
      "name": "python",
      "nbconvert_exporter": "python",
      "pygments_lexer": "ipython3",
      "version": "3.7.1"
    }
  },
  "cells": [
    {
      "cell_type": "markdown",
      "metadata": {
        "id": "WAtrT6daOlrL"
      },
      "source": [
        "#Print Function\n",
        "1. print(\"Some value to print\")\n",
        "2. print(\"Some value\", end = \"/n\")\n",
        "3. print(\"Some value 1\", \"Some value 2\")"
      ]
    },
    {
      "cell_type": "code",
      "metadata": {
        "colab": {
          "base_uri": "https://localhost:8080/"
        },
        "id": "pKygUQ3bOwcd",
        "outputId": "c88112bd-c1cf-4218-ef62-f025dba9d181"
      },
      "source": [
        "print(\"This is a DNA\")"
      ],
      "execution_count": null,
      "outputs": [
        {
          "name": "stdout",
          "output_type": "stream",
          "text": [
            "This is a DNA\n"
          ]
        }
      ]
    },
    {
      "cell_type": "markdown",
      "metadata": {
        "id": "uD-UujgmO2lb"
      },
      "source": [
        "# Data types in python\n",
        "\n",
        "1. Integer  : 1, -2, 3, 5\n",
        "2. Float : 1.2 etc\n",
        "3. String: \"ATGC\"\n",
        "4. Boolean: True, False"
      ]
    },
    {
      "cell_type": "code",
      "metadata": {
        "colab": {
          "base_uri": "https://localhost:8080/"
        },
        "id": "lG99YtctO4HS",
        "outputId": "8b131d3b-a655-4135-bfc7-1530fc3f43e5"
      },
      "source": [
        "# To get length of a sequence\n",
        "\n",
        "len(\"ATGCCCT\")"
      ],
      "execution_count": null,
      "outputs": [
        {
          "data": {
            "text/plain": [
              "7"
            ]
          },
          "execution_count": 2,
          "metadata": {},
          "output_type": "execute_result"
        }
      ]
    },
    {
      "cell_type": "code",
      "metadata": {
        "colab": {
          "base_uri": "https://localhost:8080/"
        },
        "id": "nVyHcGbqO_Oq",
        "outputId": "8b1e63cd-cb37-468d-e7ee-06617bb8adcb"
      },
      "source": [
        "#Storing in variables. It is also and array A, T, T... index starting from 0\n",
        "\n",
        "\n",
        "seq= \"ATTGGCCGATGA\"\n",
        "len(seq)"
      ],
      "execution_count": null,
      "outputs": [
        {
          "data": {
            "text/plain": [
              "12"
            ]
          },
          "execution_count": 3,
          "metadata": {},
          "output_type": "execute_result"
        }
      ]
    },
    {
      "cell_type": "code",
      "metadata": {
        "colab": {
          "base_uri": "https://localhost:8080/",
          "height": 35
        },
        "id": "Vkp41xOhPCsg",
        "outputId": "db02249d-3b3a-4a25-a786-a26394357923"
      },
      "source": [
        "seq[0]"
      ],
      "execution_count": null,
      "outputs": [
        {
          "data": {
            "application/vnd.google.colaboratory.intrinsic+json": {
              "type": "string"
            },
            "text/plain": [
              "'A'"
            ]
          },
          "execution_count": 4,
          "metadata": {},
          "output_type": "execute_result"
        }
      ]
    },
    {
      "cell_type": "code",
      "metadata": {
        "colab": {
          "base_uri": "https://localhost:8080/",
          "height": 35
        },
        "id": "V7HCjt3FPF6w",
        "outputId": "16fbc117-e46b-46c1-8a7b-3e751a4731a3"
      },
      "source": [
        "# String [start:stop] return from start and stop -1\n",
        "\n",
        "seq[0:4]"
      ],
      "execution_count": null,
      "outputs": [
        {
          "data": {
            "application/vnd.google.colaboratory.intrinsic+json": {
              "type": "string"
            },
            "text/plain": [
              "'ATTG'"
            ]
          },
          "execution_count": 5,
          "metadata": {},
          "output_type": "execute_result"
        }
      ]
    },
    {
      "cell_type": "code",
      "metadata": {
        "colab": {
          "base_uri": "https://localhost:8080/",
          "height": 35
        },
        "id": "5v5C5QT9PJZP",
        "outputId": "6af95a03-def7-4dbf-a896-176250713b92"
      },
      "source": [
        "seq[-5: -2]"
      ],
      "execution_count": null,
      "outputs": [
        {
          "data": {
            "application/vnd.google.colaboratory.intrinsic+json": {
              "type": "string"
            },
            "text/plain": [
              "'GAT'"
            ]
          },
          "execution_count": 6,
          "metadata": {},
          "output_type": "execute_result"
        }
      ]
    },
    {
      "cell_type": "code",
      "metadata": {
        "colab": {
          "base_uri": "https://localhost:8080/",
          "height": 35
        },
        "id": "6VVwDrZKPNQQ",
        "outputId": "2c9ac69a-9d76-484c-985a-66836225495f"
      },
      "source": [
        "# will start from index 2 till end\n",
        "seq[2:]"
      ],
      "execution_count": null,
      "outputs": [
        {
          "data": {
            "application/vnd.google.colaboratory.intrinsic+json": {
              "type": "string"
            },
            "text/plain": [
              "'TGGCCGATGA'"
            ]
          },
          "execution_count": 7,
          "metadata": {},
          "output_type": "execute_result"
        }
      ]
    },
    {
      "cell_type": "code",
      "metadata": {
        "colab": {
          "base_uri": "https://localhost:8080/",
          "height": 35
        },
        "id": "TkRJy0cLPQ1i",
        "outputId": "488c9f5f-a5c0-4000-f91f-e0ed4d14eb85"
      },
      "source": [
        "seq[: 2]"
      ],
      "execution_count": null,
      "outputs": [
        {
          "data": {
            "application/vnd.google.colaboratory.intrinsic+json": {
              "type": "string"
            },
            "text/plain": [
              "'AT'"
            ]
          },
          "execution_count": 8,
          "metadata": {},
          "output_type": "execute_result"
        }
      ]
    },
    {
      "cell_type": "code",
      "metadata": {
        "colab": {
          "base_uri": "https://localhost:8080/"
        },
        "id": "aGz-HlRtPSds",
        "outputId": "f4265233-f3c4-4dab-91ec-04f9bd34f755"
      },
      "source": [
        "type(seq)"
      ],
      "execution_count": null,
      "outputs": [
        {
          "data": {
            "text/plain": [
              "str"
            ]
          },
          "execution_count": 9,
          "metadata": {},
          "output_type": "execute_result"
        }
      ]
    },
    {
      "cell_type": "markdown",
      "metadata": {
        "id": "BRlVW_SqOav-"
      },
      "source": [
        "## Python Data Structures and Boolean \n",
        "\n",
        "- Boolean\n",
        "- Boolean and Logical Operators\n",
        "- Lists\n",
        "- Comparison operators\n",
        "- Dictionaries\n",
        "- Tuples\n",
        "- Sets\n"
      ]
    },
    {
      "cell_type": "markdown",
      "metadata": {
        "id": "ugf1gWzZOawB"
      },
      "source": [
        "### Boolean Variables\n",
        "\n",
        "Boolean values are the two constant objects False and True. \n",
        "\n",
        "They are used to represent truth values (other values can also be considered\n",
        "false or true). \n",
        "\n",
        "In numeric contexts (for example, when used as the argument to an\n",
        "arithmetic operator), they behave like the integers 0 and 1, respectively.\n",
        "\n",
        "The built-in function bool() can be used to cast any value to a Boolean,\n",
        "if the value can be interpreted as a truth value\n",
        "\n",
        "They are written as False and True, respectively.\n",
        "\n"
      ]
    },
    {
      "cell_type": "code",
      "metadata": {
        "id": "dn3kIXEmOawD",
        "outputId": "8d9b7566-c5bb-4c87-fe5e-74fbcf482019"
      },
      "source": [
        "False"
      ],
      "execution_count": null,
      "outputs": [
        {
          "data": {
            "text/plain": [
              "False"
            ]
          },
          "execution_count": 3,
          "metadata": {},
          "output_type": "execute_result"
        }
      ]
    },
    {
      "cell_type": "code",
      "metadata": {
        "id": "FTw3t-XGOawE",
        "outputId": "b2a1dae0-2613-4bd5-db3f-75cf81d38840"
      },
      "source": [
        "print(True,False)"
      ],
      "execution_count": null,
      "outputs": [
        {
          "name": "stdout",
          "output_type": "stream",
          "text": [
            "True False\n"
          ]
        }
      ]
    },
    {
      "cell_type": "code",
      "metadata": {
        "id": "fDso61NiOawF",
        "outputId": "1c891cc2-bcb0-4eb9-f1ab-70fb8094659a"
      },
      "source": [
        "type(True)"
      ],
      "execution_count": null,
      "outputs": [
        {
          "data": {
            "text/plain": [
              "bool"
            ]
          },
          "execution_count": 4,
          "metadata": {},
          "output_type": "execute_result"
        }
      ]
    },
    {
      "cell_type": "code",
      "metadata": {
        "id": "hWWtRZiNOawG",
        "outputId": "fee2d840-9cb9-4a32-ce3c-189ebac2d775"
      },
      "source": [
        "type(False)"
      ],
      "execution_count": null,
      "outputs": [
        {
          "data": {
            "text/plain": [
              "bool"
            ]
          },
          "execution_count": 5,
          "metadata": {},
          "output_type": "execute_result"
        }
      ]
    },
    {
      "cell_type": "code",
      "metadata": {
        "id": "hPqD4ZmfOawG"
      },
      "source": [
        "my_str='ATGCCTGATA'"
      ],
      "execution_count": null,
      "outputs": []
    },
    {
      "cell_type": "code",
      "metadata": {
        "colab": {
          "base_uri": "https://localhost:8080/"
        },
        "id": "bpPENWVsOawG",
        "outputId": "2dbec77d-2d43-4cf7-b738-da705b1077e2"
      },
      "source": [
        "my_str.istitle()"
      ],
      "execution_count": null,
      "outputs": [
        {
          "data": {
            "text/plain": [
              "False"
            ]
          },
          "execution_count": 12,
          "metadata": {},
          "output_type": "execute_result"
        }
      ]
    },
    {
      "cell_type": "code",
      "metadata": {
        "colab": {
          "base_uri": "https://localhost:8080/"
        },
        "id": "xYa6aMtCOawH",
        "outputId": "495a13e7-243c-4a72-92f6-56b01abe999a"
      },
      "source": [
        "print(my_str.isalnum()) #check if all char are numbers\n",
        "print(my_str.isalpha()) #check if all char in the string are alphabetic\n",
        "print(my_str.isdigit()) #test if string contains digits\n",
        "print(my_str.istitle()) #test if string contains title words\n",
        "print(my_str.isupper()) #test if string contains upper case\n",
        "print(my_str.islower()) #test if string contains lower case\n",
        "print(my_str.isspace()) #test if string contains spaces\n",
        "print(my_str.endswith('A')) #test if string endswith a d\n",
        "print(my_str.startswith('a')) #test if string startswith H"
      ],
      "execution_count": null,
      "outputs": [
        {
          "name": "stdout",
          "output_type": "stream",
          "text": [
            "True\n",
            "True\n",
            "False\n",
            "False\n",
            "True\n",
            "False\n",
            "False\n",
            "True\n",
            "False\n"
          ]
        }
      ]
    },
    {
      "cell_type": "markdown",
      "metadata": {
        "id": "uAh6aa4AOawI"
      },
      "source": [
        "### Boolean and Logical Operators"
      ]
    },
    {
      "cell_type": "code",
      "metadata": {
        "id": "aJ8ZTuI9OawI",
        "colab": {
          "base_uri": "https://localhost:8080/"
        },
        "outputId": "b4877be8-8ce1-4e64-b3e0-0a1a4222835c"
      },
      "source": [
        "True and True"
      ],
      "execution_count": 1,
      "outputs": [
        {
          "output_type": "execute_result",
          "data": {
            "text/plain": [
              "True"
            ]
          },
          "metadata": {},
          "execution_count": 1
        }
      ]
    },
    {
      "cell_type": "code",
      "metadata": {
        "id": "EvR5lrlIOawI",
        "colab": {
          "base_uri": "https://localhost:8080/"
        },
        "outputId": "e8f2a4d5-e1c9-47d9-ed4c-548f16d349b8"
      },
      "source": [
        "True and False"
      ],
      "execution_count": 2,
      "outputs": [
        {
          "output_type": "execute_result",
          "data": {
            "text/plain": [
              "False"
            ]
          },
          "metadata": {},
          "execution_count": 2
        }
      ]
    },
    {
      "cell_type": "code",
      "metadata": {
        "id": "Zy0rF5HTOawJ",
        "colab": {
          "base_uri": "https://localhost:8080/"
        },
        "outputId": "6a57aab2-051f-4ccd-b9d7-44eb06fe38b2"
      },
      "source": [
        "True or False"
      ],
      "execution_count": 3,
      "outputs": [
        {
          "output_type": "execute_result",
          "data": {
            "text/plain": [
              "True"
            ]
          },
          "metadata": {},
          "execution_count": 3
        }
      ]
    },
    {
      "cell_type": "code",
      "metadata": {
        "id": "0XhncPjwOawK",
        "colab": {
          "base_uri": "https://localhost:8080/"
        },
        "outputId": "eb3c8edc-c47d-47cd-fd66-2255579dbed2"
      },
      "source": [
        "True or True"
      ],
      "execution_count": 4,
      "outputs": [
        {
          "output_type": "execute_result",
          "data": {
            "text/plain": [
              "True"
            ]
          },
          "metadata": {},
          "execution_count": 4
        }
      ]
    },
    {
      "cell_type": "markdown",
      "metadata": {
        "id": "g7JpioHTOawL"
      },
      "source": [
        "### Lists\n",
        "\n",
        "A list is a data structure in Python that is a mutable, or changeable, ordered sequence of elements. Each element or value that is inside of a list is called an item. Just as strings are defined as characters between quotes, lists are defined by having values between square brackets [ ] "
      ]
    },
    {
      "cell_type": "code",
      "metadata": {
        "colab": {
          "base_uri": "https://localhost:8080/"
        },
        "id": "-LpOJTzIOawL",
        "outputId": "90fe5100-4a55-4b59-b757-6f1800a6aa32"
      },
      "source": [
        "type([])"
      ],
      "execution_count": null,
      "outputs": [
        {
          "data": {
            "text/plain": [
              "list"
            ]
          },
          "execution_count": 18,
          "metadata": {},
          "output_type": "execute_result"
        }
      ]
    },
    {
      "cell_type": "code",
      "metadata": {
        "id": "ou6RkmvvOawM"
      },
      "source": [
        "lst_example=[]"
      ],
      "execution_count": null,
      "outputs": []
    },
    {
      "cell_type": "code",
      "metadata": {
        "colab": {
          "base_uri": "https://localhost:8080/"
        },
        "id": "cgfgkeHfOawM",
        "outputId": "cfd3c676-d294-4314-d864-f7485145d97e"
      },
      "source": [
        "type(lst_example)"
      ],
      "execution_count": null,
      "outputs": [
        {
          "data": {
            "text/plain": [
              "list"
            ]
          },
          "execution_count": 20,
          "metadata": {},
          "output_type": "execute_result"
        }
      ]
    },
    {
      "cell_type": "code",
      "metadata": {
        "id": "g0SGRWy4OawN"
      },
      "source": [
        "lst=list()"
      ],
      "execution_count": null,
      "outputs": []
    },
    {
      "cell_type": "code",
      "metadata": {
        "colab": {
          "base_uri": "https://localhost:8080/"
        },
        "id": "n7BFZJiEOawN",
        "outputId": "e785cf34-72cb-4b5c-eab5-6a309f6f1dea"
      },
      "source": [
        "type(lst)"
      ],
      "execution_count": null,
      "outputs": [
        {
          "data": {
            "text/plain": [
              "list"
            ]
          },
          "execution_count": 22,
          "metadata": {},
          "output_type": "execute_result"
        }
      ]
    },
    {
      "cell_type": "code",
      "metadata": {
        "id": "5UVxPxtWOawO"
      },
      "source": [
        "lst=['Mathematics', 'chemistry', 100, 200, 300, 204]"
      ],
      "execution_count": null,
      "outputs": []
    },
    {
      "cell_type": "code",
      "metadata": {
        "colab": {
          "base_uri": "https://localhost:8080/"
        },
        "id": "OKD4XW8TOawO",
        "outputId": "f6cb74e8-cb1a-4161-87c0-121283859093"
      },
      "source": [
        "len(lst)"
      ],
      "execution_count": null,
      "outputs": [
        {
          "data": {
            "text/plain": [
              "6"
            ]
          },
          "execution_count": 24,
          "metadata": {},
          "output_type": "execute_result"
        }
      ]
    },
    {
      "cell_type": "code",
      "metadata": {
        "colab": {
          "base_uri": "https://localhost:8080/"
        },
        "id": "NmbzchzvOawO",
        "outputId": "ae3578c1-bd43-47c8-9045-9f768c47fa16"
      },
      "source": [
        "type(lst)"
      ],
      "execution_count": null,
      "outputs": [
        {
          "data": {
            "text/plain": [
              "list"
            ]
          },
          "execution_count": 25,
          "metadata": {},
          "output_type": "execute_result"
        }
      ]
    },
    {
      "cell_type": "markdown",
      "metadata": {
        "id": "UTA4vBCfOawP"
      },
      "source": [
        "### Append"
      ]
    },
    {
      "cell_type": "code",
      "metadata": {
        "id": "bp7vJNdDOawP"
      },
      "source": [
        "#.append is used to add elements in the list\n",
        "lst.append(\"ATGC\")"
      ],
      "execution_count": null,
      "outputs": []
    },
    {
      "cell_type": "code",
      "metadata": {
        "id": "s5r79mvNOawP"
      },
      "source": [
        "lst.append([\"DNA\",\"RNA\"])"
      ],
      "execution_count": null,
      "outputs": []
    },
    {
      "cell_type": "code",
      "metadata": {
        "colab": {
          "base_uri": "https://localhost:8080/"
        },
        "id": "vQoK_-S5OawQ",
        "outputId": "302c701b-c11b-4c56-b9b4-57ae43b5a20c"
      },
      "source": [
        "lst"
      ],
      "execution_count": null,
      "outputs": [
        {
          "data": {
            "text/plain": [
              "['Mathematics', 'chemistry', 100, 200, 300, 204, 'ATGC', ['DNA', 'RNA']]"
            ]
          },
          "execution_count": 28,
          "metadata": {},
          "output_type": "execute_result"
        }
      ]
    },
    {
      "cell_type": "code",
      "metadata": {
        "colab": {
          "base_uri": "https://localhost:8080/",
          "height": 35
        },
        "id": "q0ESZ5Z-OawQ",
        "outputId": "efc114e6-da0b-4fc1-97fa-4a69a12de1b3"
      },
      "source": [
        "##Indexing in List\n",
        "lst[6]"
      ],
      "execution_count": null,
      "outputs": [
        {
          "data": {
            "application/vnd.google.colaboratory.intrinsic+json": {
              "type": "string"
            },
            "text/plain": [
              "'ATGC'"
            ]
          },
          "execution_count": 29,
          "metadata": {},
          "output_type": "execute_result"
        }
      ]
    },
    {
      "cell_type": "code",
      "metadata": {
        "colab": {
          "base_uri": "https://localhost:8080/"
        },
        "id": "clnQHp5XOawQ",
        "outputId": "bb24eca0-c901-4532-b727-a14326ff86b3"
      },
      "source": [
        "lst[1:6]"
      ],
      "execution_count": null,
      "outputs": [
        {
          "data": {
            "text/plain": [
              "['chemistry', 100, 200, 300, 204]"
            ]
          },
          "execution_count": 30,
          "metadata": {},
          "output_type": "execute_result"
        }
      ]
    },
    {
      "cell_type": "markdown",
      "metadata": {
        "id": "YwqRoquGOawR"
      },
      "source": [
        "### Insert"
      ]
    },
    {
      "cell_type": "code",
      "metadata": {
        "id": "jlJRRL-iOawR"
      },
      "source": [
        "## insert in a specific order\n",
        "\n",
        "lst.insert(2,\"Protein\")"
      ],
      "execution_count": null,
      "outputs": []
    },
    {
      "cell_type": "code",
      "metadata": {
        "colab": {
          "base_uri": "https://localhost:8080/"
        },
        "id": "_MVCEwZKOawR",
        "outputId": "6b93400b-4b65-49db-98d2-771481426a03"
      },
      "source": [
        "lst"
      ],
      "execution_count": null,
      "outputs": [
        {
          "data": {
            "text/plain": [
              "['Mathematics',\n",
              " 'chemistry',\n",
              " 'Protein',\n",
              " 100,\n",
              " 200,\n",
              " 300,\n",
              " 204,\n",
              " 'ATGC',\n",
              " ['DNA', 'RNA']]"
            ]
          },
          "execution_count": 32,
          "metadata": {},
          "output_type": "execute_result"
        }
      ]
    },
    {
      "cell_type": "code",
      "metadata": {
        "id": "p957GzRPOawR"
      },
      "source": [
        "lst.append([\"Hello\",\"World\"])"
      ],
      "execution_count": null,
      "outputs": []
    },
    {
      "cell_type": "code",
      "metadata": {
        "colab": {
          "base_uri": "https://localhost:8080/"
        },
        "id": "5t-44QY3OawS",
        "outputId": "3967c332-fdaa-488d-db76-258df2a07a2a"
      },
      "source": [
        "lst"
      ],
      "execution_count": null,
      "outputs": [
        {
          "data": {
            "text/plain": [
              "['Mathematics',\n",
              " 'chemistry',\n",
              " 'Protein',\n",
              " 100,\n",
              " 200,\n",
              " 300,\n",
              " 204,\n",
              " 'ATGC',\n",
              " ['DNA', 'RNA'],\n",
              " ['Hello', 'World']]"
            ]
          },
          "execution_count": 34,
          "metadata": {},
          "output_type": "execute_result"
        }
      ]
    },
    {
      "cell_type": "code",
      "metadata": {
        "id": "oDZ_tr8cOawS"
      },
      "source": [
        "lst=[1,2,3]"
      ],
      "execution_count": null,
      "outputs": []
    },
    {
      "cell_type": "code",
      "metadata": {
        "id": "vd581PpLOawS"
      },
      "source": [
        "lst.append([4,5])"
      ],
      "execution_count": null,
      "outputs": []
    },
    {
      "cell_type": "code",
      "metadata": {
        "colab": {
          "base_uri": "https://localhost:8080/"
        },
        "id": "BpTqTVi9OawT",
        "outputId": "9a3c8f07-998b-413f-a614-26451bab7df4"
      },
      "source": [
        "lst"
      ],
      "execution_count": null,
      "outputs": [
        {
          "data": {
            "text/plain": [
              "[1, 2, 3, [4, 5]]"
            ]
          },
          "execution_count": 37,
          "metadata": {},
          "output_type": "execute_result"
        }
      ]
    },
    {
      "cell_type": "markdown",
      "metadata": {
        "id": "_8OiEWACOawT"
      },
      "source": [
        "### Extend Method"
      ]
    },
    {
      "cell_type": "code",
      "metadata": {
        "id": "xwcpYAYzOawT"
      },
      "source": [
        "lst=[1,2,3,4,5,6]"
      ],
      "execution_count": null,
      "outputs": []
    },
    {
      "cell_type": "code",
      "metadata": {
        "id": "MdIJOznkOawT"
      },
      "source": [
        "lst.extend([8,9])"
      ],
      "execution_count": null,
      "outputs": []
    },
    {
      "cell_type": "code",
      "metadata": {
        "colab": {
          "base_uri": "https://localhost:8080/"
        },
        "id": "LwgCJO1eOawU",
        "outputId": "531dd48e-9622-4508-cfeb-c53344e85d91"
      },
      "source": [
        "lst"
      ],
      "execution_count": null,
      "outputs": [
        {
          "data": {
            "text/plain": [
              "[1, 2, 3, 4, 5, 6, 8, 9]"
            ]
          },
          "execution_count": 40,
          "metadata": {},
          "output_type": "execute_result"
        }
      ]
    },
    {
      "cell_type": "markdown",
      "metadata": {
        "id": "McSetGtgOawU"
      },
      "source": [
        "### Various Operations that we can perform in List"
      ]
    },
    {
      "cell_type": "code",
      "metadata": {
        "id": "OnjIqYjPOawU"
      },
      "source": [
        "lst=[1,2,3,4,5]"
      ],
      "execution_count": null,
      "outputs": []
    },
    {
      "cell_type": "code",
      "metadata": {
        "id": "39CxCYDmOawU",
        "outputId": "d0865c2f-d5cd-4e20-a18f-28be7a6a4e1f"
      },
      "source": [
        "sum(lst)"
      ],
      "execution_count": null,
      "outputs": [
        {
          "data": {
            "text/plain": [
              "15"
            ]
          },
          "execution_count": 42,
          "metadata": {},
          "output_type": "execute_result"
        }
      ]
    },
    {
      "cell_type": "code",
      "metadata": {
        "id": "_4YkHcu4OawV",
        "outputId": "6fa21837-62ef-41a9-e693-b56c0b6cfeac"
      },
      "source": [
        "lst*5"
      ],
      "execution_count": null,
      "outputs": [
        {
          "data": {
            "text/plain": [
              "[1, 2, 3, 4, 5, 1, 2, 3, 4, 5, 1, 2, 3, 4, 5, 1, 2, 3, 4, 5, 1, 2, 3, 4, 5]"
            ]
          },
          "execution_count": 48,
          "metadata": {},
          "output_type": "execute_result"
        }
      ]
    },
    {
      "cell_type": "markdown",
      "metadata": {
        "id": "XQ67YFmZOawV"
      },
      "source": [
        "### Pop() Method"
      ]
    },
    {
      "cell_type": "code",
      "metadata": {
        "id": "ixUzjrrSOawV",
        "outputId": "64d291b2-481d-4de1-aa02-13fbd80c6094"
      },
      "source": [
        "lst.pop()"
      ],
      "execution_count": null,
      "outputs": [
        {
          "data": {
            "text/plain": [
              "5"
            ]
          },
          "execution_count": 37,
          "metadata": {},
          "output_type": "execute_result"
        }
      ]
    },
    {
      "cell_type": "code",
      "metadata": {
        "id": "1gnSmcU_OawW",
        "outputId": "0660aacc-27fc-49fa-994b-171004b55f31"
      },
      "source": [
        "lst"
      ],
      "execution_count": null,
      "outputs": [
        {
          "data": {
            "text/plain": [
              "[1, 2, 3, 4]"
            ]
          },
          "execution_count": 38,
          "metadata": {},
          "output_type": "execute_result"
        }
      ]
    },
    {
      "cell_type": "code",
      "metadata": {
        "id": "zP7V71yYOawW",
        "outputId": "9e60cd77-16b2-4476-a47a-463cecf9dd57"
      },
      "source": [
        "lst.pop(0)"
      ],
      "execution_count": null,
      "outputs": [
        {
          "data": {
            "text/plain": [
              "1"
            ]
          },
          "execution_count": 39,
          "metadata": {},
          "output_type": "execute_result"
        }
      ]
    },
    {
      "cell_type": "code",
      "metadata": {
        "id": "j80ZxUiPOawW",
        "outputId": "f05eb804-da5b-4af6-a072-3be2ef34a9b0"
      },
      "source": [
        "lst"
      ],
      "execution_count": null,
      "outputs": [
        {
          "data": {
            "text/plain": [
              "[2, 3, 4]"
            ]
          },
          "execution_count": 40,
          "metadata": {},
          "output_type": "execute_result"
        }
      ]
    },
    {
      "cell_type": "markdown",
      "metadata": {
        "id": "biieIlBOOawX"
      },
      "source": [
        "### count():Calculates total occurrence of given element of List"
      ]
    },
    {
      "cell_type": "code",
      "metadata": {
        "id": "wvbKLnvHOawX",
        "outputId": "0ebfa808-14f1-46bb-e411-ff3b22dbb372"
      },
      "source": [
        "lst=[1,1,2,3,4,5]\n",
        "lst.count(1)"
      ],
      "execution_count": null,
      "outputs": [
        {
          "data": {
            "text/plain": [
              "2"
            ]
          },
          "execution_count": 41,
          "metadata": {},
          "output_type": "execute_result"
        }
      ]
    },
    {
      "cell_type": "code",
      "metadata": {
        "id": "g0dLp4TmOawX",
        "outputId": "358dc932-91c5-470a-a6af-ce0c08f63bac"
      },
      "source": [
        "#length:Calculates total length of List\n",
        "len(lst)"
      ],
      "execution_count": null,
      "outputs": [
        {
          "data": {
            "text/plain": [
              "6"
            ]
          },
          "execution_count": 49,
          "metadata": {},
          "output_type": "execute_result"
        }
      ]
    },
    {
      "cell_type": "code",
      "metadata": {
        "id": "u4I5uWkQOawX",
        "outputId": "15587909-982c-42e2-f3e8-58c0d3ba0a6d"
      },
      "source": [
        "# index(): Returns the index of first occurrence. Start and End index are not necessary parameters\n",
        "lst.index(1,1,4)"
      ],
      "execution_count": null,
      "outputs": [
        {
          "data": {
            "text/plain": [
              "1"
            ]
          },
          "execution_count": 44,
          "metadata": {},
          "output_type": "execute_result"
        }
      ]
    },
    {
      "cell_type": "code",
      "metadata": {
        "id": "uQDl75w6OawY",
        "outputId": "404a1fe4-2060-43ba-db5c-af2b791c9d8d"
      },
      "source": [
        "##Min and Max\n",
        "min(lst)"
      ],
      "execution_count": null,
      "outputs": [
        {
          "data": {
            "text/plain": [
              "1"
            ]
          },
          "execution_count": 45,
          "metadata": {},
          "output_type": "execute_result"
        }
      ]
    },
    {
      "cell_type": "code",
      "metadata": {
        "id": "o5_Sg2i7OawZ",
        "outputId": "e02a6525-d0bf-4432-806f-9538b7979d48"
      },
      "source": [
        "max(lst)"
      ],
      "execution_count": null,
      "outputs": [
        {
          "data": {
            "text/plain": [
              "5"
            ]
          },
          "execution_count": 57,
          "metadata": {},
          "output_type": "execute_result"
        }
      ]
    },
    {
      "cell_type": "markdown",
      "metadata": {
        "id": "dqgWTpRmOawZ"
      },
      "source": [
        "## SETS\n",
        "\n",
        "A Set is an unordered collection data type that is iterable, mutable, and has no duplicate elements. Python's set class represents the mathematical notion of a set.This is based on a data structure known as a hash table"
      ]
    },
    {
      "cell_type": "code",
      "metadata": {
        "id": "NU6j_pbpOawa",
        "outputId": "ce18e543-0b7e-4dfb-c1d1-d839746935ba"
      },
      "source": [
        "## Defining an empy set\n",
        "\n",
        "set_var= set()\n",
        "print(set_var)\n",
        "print(type(set_var))"
      ],
      "execution_count": null,
      "outputs": [
        {
          "name": "stdout",
          "output_type": "stream",
          "text": [
            "set()\n",
            "<class 'set'>\n"
          ]
        }
      ]
    },
    {
      "cell_type": "code",
      "metadata": {
        "id": "1Hvtvw4NOawa"
      },
      "source": [
        "set_var={1,2,3,4,3}"
      ],
      "execution_count": null,
      "outputs": []
    },
    {
      "cell_type": "code",
      "metadata": {
        "id": "eoF3-RG8Oawb",
        "outputId": "4383286c-fa1e-4abb-e971-19c62bb8189b"
      },
      "source": [
        "set_var"
      ],
      "execution_count": null,
      "outputs": [
        {
          "data": {
            "text/plain": [
              "{1, 2, 3, 4}"
            ]
          },
          "execution_count": 50,
          "metadata": {},
          "output_type": "execute_result"
        }
      ]
    },
    {
      "cell_type": "code",
      "metadata": {
        "colab": {
          "base_uri": "https://localhost:8080/"
        },
        "id": "MYIOr3D-Oawb",
        "outputId": "022ce338-3e53-4ce9-9310-e8b0276ed5dd"
      },
      "source": [
        "set_var={\"DNA\",\"RNA\",'Protein'}\n",
        "print(set_var)\n",
        "type(set_var)"
      ],
      "execution_count": null,
      "outputs": [
        {
          "name": "stdout",
          "output_type": "stream",
          "text": [
            "{'DNA', 'RNA', 'Protein'}\n"
          ]
        },
        {
          "data": {
            "text/plain": [
              "set"
            ]
          },
          "execution_count": 45,
          "metadata": {},
          "output_type": "execute_result"
        }
      ]
    },
    {
      "cell_type": "code",
      "metadata": {
        "id": "s8kg28P_Oawc"
      },
      "source": [
        ""
      ],
      "execution_count": null,
      "outputs": []
    },
    {
      "cell_type": "code",
      "metadata": {
        "id": "tbxZhts6Oawc"
      },
      "source": [
        "## Inbuilt function in sets\n",
        "\n",
        "set_var.add(\"genome\")\n"
      ],
      "execution_count": null,
      "outputs": []
    },
    {
      "cell_type": "code",
      "metadata": {
        "id": "LXoLflLIOawd"
      },
      "source": [
        ""
      ],
      "execution_count": null,
      "outputs": []
    },
    {
      "cell_type": "code",
      "metadata": {
        "colab": {
          "base_uri": "https://localhost:8080/"
        },
        "id": "tzklQzJWOawd",
        "outputId": "46031c22-814b-4bc5-d5b5-68dcea0353a1"
      },
      "source": [
        "print(set_var)"
      ],
      "execution_count": null,
      "outputs": [
        {
          "name": "stdout",
          "output_type": "stream",
          "text": [
            "{'DNA', 'genome', 'RNA', 'Protein'}\n"
          ]
        }
      ]
    },
    {
      "cell_type": "code",
      "metadata": {
        "id": "0N2OB0LEOawe"
      },
      "source": [
        "set1={\"DNA\",\"RNA\",'Protein'}\n",
        "set2={\"DNA\",\"RNA\",'Protein','genome'}"
      ],
      "execution_count": null,
      "outputs": []
    },
    {
      "cell_type": "code",
      "metadata": {
        "id": "68RqfpMEOawf"
      },
      "source": [
        "set2.intersection_update(set1)"
      ],
      "execution_count": null,
      "outputs": []
    },
    {
      "cell_type": "code",
      "metadata": {
        "colab": {
          "base_uri": "https://localhost:8080/"
        },
        "id": "2QvERz9UOawf",
        "outputId": "8560dba1-d8ee-4cb5-db99-377dea6d1e18"
      },
      "source": [
        "set2"
      ],
      "execution_count": null,
      "outputs": [
        {
          "data": {
            "text/plain": [
              "{'DNA', 'Protein', 'RNA'}"
            ]
          },
          "execution_count": 54,
          "metadata": {},
          "output_type": "execute_result"
        }
      ]
    },
    {
      "cell_type": "markdown",
      "metadata": {
        "id": "VXSp2JUlOawi"
      },
      "source": [
        "## Dictionaries\n",
        "\n",
        "A dictionary is a collection which is unordered, changeable and indexed. In Python dictionaries are written with curly brackets, and they have keys and values."
      ]
    },
    {
      "cell_type": "code",
      "metadata": {
        "id": "ptTc__tgOawi"
      },
      "source": [
        "dic={}"
      ],
      "execution_count": null,
      "outputs": []
    },
    {
      "cell_type": "code",
      "metadata": {
        "id": "qMEim68jOawj",
        "outputId": "030bb27b-2379-4ecc-d862-7069181f5f2f"
      },
      "source": [
        "type(dic)"
      ],
      "execution_count": null,
      "outputs": [
        {
          "data": {
            "text/plain": [
              "dict"
            ]
          },
          "execution_count": 60,
          "metadata": {},
          "output_type": "execute_result"
        }
      ]
    },
    {
      "cell_type": "code",
      "metadata": {
        "id": "cy3phCvaOawj",
        "outputId": "7a516426-ce31-42eb-b4fd-8fcbe9c3ecc7"
      },
      "source": [
        "type(dict())"
      ],
      "execution_count": null,
      "outputs": [
        {
          "data": {
            "text/plain": [
              "dict"
            ]
          },
          "execution_count": 70,
          "metadata": {},
          "output_type": "execute_result"
        }
      ]
    },
    {
      "cell_type": "code",
      "metadata": {
        "id": "tdRHFHNIOawk"
      },
      "source": [
        "set_ex={1,2,3,4,5}"
      ],
      "execution_count": null,
      "outputs": []
    },
    {
      "cell_type": "code",
      "metadata": {
        "id": "TYFVrB6tOawk",
        "outputId": "982c9a11-e9f5-48fc-b259-e993ef57b508"
      },
      "source": [
        "type(set_ex)"
      ],
      "execution_count": null,
      "outputs": [
        {
          "data": {
            "text/plain": [
              "set"
            ]
          },
          "execution_count": 69,
          "metadata": {},
          "output_type": "execute_result"
        }
      ]
    },
    {
      "cell_type": "code",
      "metadata": {
        "id": "2qbSL0SpOawk"
      },
      "source": [
        "## Let create a dictionary\n",
        "\n",
        "my_dict={\"RNA\": \"ecoli\", \"Protein1\":\"galactosidase\",\"Protein2\":\"lipase\"}"
      ],
      "execution_count": 5,
      "outputs": []
    },
    {
      "cell_type": "code",
      "metadata": {
        "id": "GNcdVT3POawl",
        "colab": {
          "base_uri": "https://localhost:8080/"
        },
        "outputId": "71ca671e-7236-4ad8-e2ff-f07d7094be9a"
      },
      "source": [
        "type(my_dict)"
      ],
      "execution_count": 6,
      "outputs": [
        {
          "output_type": "execute_result",
          "data": {
            "text/plain": [
              "dict"
            ]
          },
          "metadata": {},
          "execution_count": 6
        }
      ]
    },
    {
      "cell_type": "code",
      "metadata": {
        "id": "O7ot1mYYOawl",
        "colab": {
          "base_uri": "https://localhost:8080/",
          "height": 35
        },
        "outputId": "cf91f0fe-e25b-4e40-937a-ade3dfe80ec7"
      },
      "source": [
        "##Access the item values based on keys\n",
        "\n",
        "my_dict['RNA']"
      ],
      "execution_count": 7,
      "outputs": [
        {
          "output_type": "execute_result",
          "data": {
            "application/vnd.google.colaboratory.intrinsic+json": {
              "type": "string"
            },
            "text/plain": [
              "'ecoli'"
            ]
          },
          "metadata": {},
          "execution_count": 7
        }
      ]
    },
    {
      "cell_type": "code",
      "metadata": {
        "id": "_hjanBfPOawm",
        "colab": {
          "base_uri": "https://localhost:8080/"
        },
        "outputId": "2d14be50-94ee-44fd-b5f9-11e6a635460e"
      },
      "source": [
        "# We can even loop throught the dictionaries keys\n",
        "\n",
        "for x in my_dict:\n",
        "    print(x)"
      ],
      "execution_count": 8,
      "outputs": [
        {
          "output_type": "stream",
          "name": "stdout",
          "text": [
            "RNA\n",
            "Protein1\n",
            "Protein2\n"
          ]
        }
      ]
    },
    {
      "cell_type": "code",
      "metadata": {
        "id": "pMNzneCwOawq",
        "colab": {
          "base_uri": "https://localhost:8080/"
        },
        "outputId": "9bf5e9cc-5526-4f5a-d02f-dd5255f9078a"
      },
      "source": [
        "# We can even loop throught the dictionaries values\n",
        "\n",
        "for x in my_dict.values():\n",
        "    print(x)"
      ],
      "execution_count": 9,
      "outputs": [
        {
          "output_type": "stream",
          "name": "stdout",
          "text": [
            "ecoli\n",
            "galactosidase\n",
            "lipase\n"
          ]
        }
      ]
    },
    {
      "cell_type": "code",
      "metadata": {
        "id": "dc59Z_KeOawq",
        "colab": {
          "base_uri": "https://localhost:8080/"
        },
        "outputId": "731462d2-4be2-4127-8fac-32761b3b7166"
      },
      "source": [
        "# We can also check both keys and values\n",
        "for x in my_dict.items():\n",
        "    print(x)"
      ],
      "execution_count": 10,
      "outputs": [
        {
          "output_type": "stream",
          "name": "stdout",
          "text": [
            "('RNA', 'ecoli')\n",
            "('Protein1', 'galactosidase')\n",
            "('Protein2', 'lipase')\n"
          ]
        }
      ]
    },
    {
      "cell_type": "code",
      "metadata": {
        "id": "ysoqzH2QOawr"
      },
      "source": [
        "## Adding items in Dictionaries\n",
        "\n",
        "my_dict['Protein4']='Protease'"
      ],
      "execution_count": 11,
      "outputs": []
    },
    {
      "cell_type": "code",
      "metadata": {
        "id": "8x6N6aLsOawr",
        "colab": {
          "base_uri": "https://localhost:8080/"
        },
        "outputId": "f496aca1-dc0a-46ea-b664-1764d1d859fb"
      },
      "source": [
        "my_dict"
      ],
      "execution_count": 12,
      "outputs": [
        {
          "output_type": "execute_result",
          "data": {
            "text/plain": [
              "{'Protein1': 'galactosidase',\n",
              " 'Protein2': 'lipase',\n",
              " 'Protein4': 'Protease',\n",
              " 'RNA': 'ecoli'}"
            ]
          },
          "metadata": {},
          "execution_count": 12
        }
      ]
    },
    {
      "cell_type": "code",
      "metadata": {
        "id": "VpIM1fNQOawr"
      },
      "source": [
        "my_dict['Protein1']='reductase'"
      ],
      "execution_count": 13,
      "outputs": []
    },
    {
      "cell_type": "code",
      "metadata": {
        "id": "n4Zfk_RHOawr",
        "colab": {
          "base_uri": "https://localhost:8080/"
        },
        "outputId": "10f4854a-ced6-43b6-c3ff-7bd354f17608"
      },
      "source": [
        "my_dict"
      ],
      "execution_count": 14,
      "outputs": [
        {
          "output_type": "execute_result",
          "data": {
            "text/plain": [
              "{'Protein1': 'reductase',\n",
              " 'Protein2': 'lipase',\n",
              " 'Protein4': 'Protease',\n",
              " 'RNA': 'ecoli'}"
            ]
          },
          "metadata": {},
          "execution_count": 14
        }
      ]
    },
    {
      "cell_type": "markdown",
      "metadata": {
        "id": "F2ncIndEOaws"
      },
      "source": [
        "### Nested Dictionary"
      ]
    },
    {
      "cell_type": "code",
      "metadata": {
        "id": "Z0l4VoOpOaws"
      },
      "source": [
        "protein1_model={'Oxydoreductase':1}\n",
        "protein2_model={'Transferase':2}\n",
        "protein3_model={'Hydrolase':3}\n",
        "\n",
        "ec_type={'ec1':protein1_model,'ec2':protein2_model,'ec3':protein3_model}"
      ],
      "execution_count": 15,
      "outputs": []
    },
    {
      "cell_type": "code",
      "metadata": {
        "id": "BdKGEsbbOaws",
        "colab": {
          "base_uri": "https://localhost:8080/"
        },
        "outputId": "df4adcbf-f78d-490b-dc74-c9d1f0fb00f0"
      },
      "source": [
        "print(ec_type)"
      ],
      "execution_count": 16,
      "outputs": [
        {
          "output_type": "stream",
          "name": "stdout",
          "text": [
            "{'ec1': {'Oxydoreductase': 1}, 'ec2': {'Transferase': 2}, 'ec3': {'Hydrolase': 3}}\n"
          ]
        }
      ]
    },
    {
      "cell_type": "code",
      "metadata": {
        "id": "dOFVKaGpOawt",
        "colab": {
          "base_uri": "https://localhost:8080/"
        },
        "outputId": "124aef60-2c54-4aba-a7a5-761611f58cf1"
      },
      "source": [
        "## Accessing the items in the dictionary\n",
        "\n",
        "print(ec_type['ec1'])"
      ],
      "execution_count": 19,
      "outputs": [
        {
          "output_type": "stream",
          "name": "stdout",
          "text": [
            "{'Oxydoreductase': 1}\n"
          ]
        }
      ]
    },
    {
      "cell_type": "code",
      "metadata": {
        "id": "bXzOPvL9Oawt",
        "colab": {
          "base_uri": "https://localhost:8080/"
        },
        "outputId": "e5227c44-3844-459b-f61c-a9b7865e5c34"
      },
      "source": [
        "print(ec_type['ec1']['Oxydoreductase'])"
      ],
      "execution_count": 20,
      "outputs": [
        {
          "output_type": "stream",
          "name": "stdout",
          "text": [
            "1\n"
          ]
        }
      ]
    },
    {
      "cell_type": "markdown",
      "metadata": {
        "id": "c3ugXQwqOawt"
      },
      "source": [
        "## Tuples\n",
        "Python tuples are a data structure that store an ordered sequence of values. Tuples are immutable. This means you cannot change the values in a tuple. Tuples are defined with parenthesis."
      ]
    },
    {
      "cell_type": "code",
      "metadata": {
        "id": "1tblkcDlOawt"
      },
      "source": [
        "## create an empty Tuples\n",
        "\n",
        "my_tuple=tuple()"
      ],
      "execution_count": null,
      "outputs": []
    },
    {
      "cell_type": "code",
      "metadata": {
        "id": "p3CF3lXCOawu",
        "outputId": "b03d4abf-c63d-4df6-98fc-301bcf20bfb3"
      },
      "source": [
        "type(my_tuple)"
      ],
      "execution_count": null,
      "outputs": [
        {
          "data": {
            "text/plain": [
              "tuple"
            ]
          },
          "execution_count": 102,
          "metadata": {},
          "output_type": "execute_result"
        }
      ]
    },
    {
      "cell_type": "code",
      "metadata": {
        "id": "JVmpWZA-Oawu"
      },
      "source": [
        "my_tuple=()"
      ],
      "execution_count": null,
      "outputs": []
    },
    {
      "cell_type": "code",
      "metadata": {
        "id": "w8VgHbTWOawu",
        "outputId": "562c330f-1985-4693-9031-a5de79bbbc3e"
      },
      "source": [
        "type(my_tuple)"
      ],
      "execution_count": null,
      "outputs": [
        {
          "data": {
            "text/plain": [
              "tuple"
            ]
          },
          "execution_count": 104,
          "metadata": {},
          "output_type": "execute_result"
        }
      ]
    },
    {
      "cell_type": "code",
      "metadata": {
        "id": "YyJ9_gsQOawu"
      },
      "source": [
        "my_tuple=(\"RNA\",\"DNA\",\"Protein\")"
      ],
      "execution_count": 21,
      "outputs": []
    },
    {
      "cell_type": "code",
      "metadata": {
        "id": "ichru9WeOawv"
      },
      "source": [
        "my_tuple=('Hello','Biology')"
      ],
      "execution_count": 22,
      "outputs": []
    },
    {
      "cell_type": "code",
      "metadata": {
        "id": "cY_dyZcIOawv",
        "colab": {
          "base_uri": "https://localhost:8080/"
        },
        "outputId": "60bb9d5d-3714-4b5c-a2fb-b060c75d573b"
      },
      "source": [
        "print(type(my_tuple))\n",
        "print(my_tuple)"
      ],
      "execution_count": 23,
      "outputs": [
        {
          "output_type": "stream",
          "name": "stdout",
          "text": [
            "<class 'tuple'>\n",
            "('Hello', 'Biology')\n"
          ]
        }
      ]
    },
    {
      "cell_type": "code",
      "metadata": {
        "id": "HV7voJlkOawv",
        "colab": {
          "base_uri": "https://localhost:8080/"
        },
        "outputId": "42528a69-17f9-4b1b-a55d-3946b305159b"
      },
      "source": [
        "type(my_tuple)"
      ],
      "execution_count": 24,
      "outputs": [
        {
          "output_type": "execute_result",
          "data": {
            "text/plain": [
              "tuple"
            ]
          },
          "metadata": {},
          "execution_count": 24
        }
      ]
    },
    {
      "cell_type": "code",
      "metadata": {
        "id": "achQTr6WOaww",
        "colab": {
          "base_uri": "https://localhost:8080/"
        },
        "outputId": "e600eca5-8edc-4fbf-f682-ff3cff55cb9e"
      },
      "source": [
        "## Inbuilt function\n",
        "my_tuple.count('Hello')"
      ],
      "execution_count": 25,
      "outputs": [
        {
          "output_type": "execute_result",
          "data": {
            "text/plain": [
              "1"
            ]
          },
          "metadata": {},
          "execution_count": 25
        }
      ]
    },
    {
      "cell_type": "code",
      "metadata": {
        "id": "NTylmCf1Oaww",
        "colab": {
          "base_uri": "https://localhost:8080/"
        },
        "outputId": "dcb32f72-096b-4f1a-f4bc-c17cbc8c05ee"
      },
      "source": [
        "my_tuple.index('Biology')"
      ],
      "execution_count": 26,
      "outputs": [
        {
          "output_type": "execute_result",
          "data": {
            "text/plain": [
              "1"
            ]
          },
          "metadata": {},
          "execution_count": 26
        }
      ]
    }
  ]
}