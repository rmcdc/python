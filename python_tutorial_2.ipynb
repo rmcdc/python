{
  "nbformat": 4,
  "nbformat_minor": 0,
  "metadata": {
    "colab": {
      "name": "python_tutorial_2.ipynb",
      "provenance": [],
      "collapsed_sections": []
    },
    "kernelspec": {
      "name": "python3",
      "display_name": "Python 3"
    },
    "language_info": {
      "name": "python"
    }
  },
  "cells": [
    {
      "cell_type": "markdown",
      "metadata": {
        "id": "UYLQ3gar3R4q"
      },
      "source": [
        "#Conditions Loops and Functions\n",
        "\n",
        "An \"if statement\" is written by using the if keyword.\n",
        "\n",
        "The elif keyword is pythons way of saying \"if the previous conditions were not true, then try this condition\".\n",
        "\n",
        "The else keyword catches anything which isn't caught by the preceding conditions."
      ]
    },
    {
      "cell_type": "code",
      "metadata": {
        "colab": {
          "base_uri": "https://localhost:8080/"
        },
        "id": "gGzzNgx9U0tA",
        "outputId": "7081bf33-2261-40ed-b35a-320eb99ef2df"
      },
      "source": [
        "a = 200\n",
        "b = 33\n",
        "if b > a:\n",
        "  print(\"b is greater than a\")\n",
        "elif a == b:\n",
        "  print(\"a and b are equal\")\n",
        "else:\n",
        "  print(\"a is greater than b\")"
      ],
      "execution_count": 1,
      "outputs": [
        {
          "output_type": "stream",
          "name": "stdout",
          "text": [
            "a is greater than b\n"
          ]
        }
      ]
    },
    {
      "cell_type": "code",
      "metadata": {
        "colab": {
          "base_uri": "https://localhost:8080/"
        },
        "id": "mtzSnd5h3-ag",
        "outputId": "dc1b1ca0-83e0-4295-f6aa-1409d2582f73"
      },
      "source": [
        "print(\"Hi!\")\n",
        "password = input(\"Enter your password: \")\n",
        "\n",
        "if password == \"DNA\":\n",
        "    print(\"That's correct, welcome!\")\n",
        "else:\n",
        "    print(\"Access denied.\")"
      ],
      "execution_count": 3,
      "outputs": [
        {
          "output_type": "stream",
          "name": "stdout",
          "text": [
            "Hi!\n",
            "Enter your password: DNA\n",
            "That's correct, welcome!\n"
          ]
        }
      ]
    },
    {
      "cell_type": "code",
      "metadata": {
        "colab": {
          "base_uri": "https://localhost:8080/"
        },
        "id": "ANfNLzcX4Mqx",
        "outputId": "6cb393a6-6be1-4d90-f99e-8e457ee13635"
      },
      "source": [
        "# If greater than one condition to check\n",
        "print(\"Hi!\")\n",
        "word = input(\"Enter password: \")\n",
        "\n",
        "if word == \"DNA\":\n",
        "    print(\"Correct\")\n",
        "else:\n",
        "    if word == \"RNA\":\n",
        "        print(\"Not correct!\")\n",
        "    else:\n",
        "        if word == \"protein\":\n",
        "            print(\"Complex\")\n",
        "        else:\n",
        "            if word == \"not protein\":\n",
        "                print(\"Really!\")\n",
        "            else:\n",
        "                if word == \"Biology\":\n",
        "                    print(\"Great subject\")\n",
        "                else:\n",
        "                    print(\"I don't know what\", word, \"means.\")\n",
        "# This looks like a mess"
      ],
      "execution_count": 4,
      "outputs": [
        {
          "output_type": "stream",
          "name": "stdout",
          "text": [
            "Hi!\n",
            "Enter password: HHH\n",
            "I don't know what HHH means.\n"
          ]
        }
      ]
    },
    {
      "cell_type": "code",
      "metadata": {
        "id": "PjKMKEO_4_U1"
      },
      "source": [
        "#Instead of typing else, indenting more and typing an if we can simply type elif, which is short for else if. "
      ],
      "execution_count": null,
      "outputs": []
    },
    {
      "cell_type": "code",
      "metadata": {
        "colab": {
          "base_uri": "https://localhost:8080/"
        },
        "id": "yh5BCi2t3RCv",
        "outputId": "68109337-fbe3-4696-c351-869bb5013c28"
      },
      "source": [
        "print(\"Hi!\")\n",
        "word = input(\"Enter password: \")\n",
        "\n",
        "if word == \"DNA\":\n",
        "    print(\"Correct\")\n",
        "elif word == \"RNA\":\n",
        "    print(\"not correct\")\n",
        "elif word == \"protein\":\n",
        "    print(\"Complex\")\n",
        "elif word == \"not protein\":\n",
        "    print(\"Really!\")\n",
        "elif word == \"biology\":\n",
        "    print(\"Great subject\")\n",
        "else:\n",
        "    print(\"I don't know what\", word, \"means.\")"
      ],
      "execution_count": 5,
      "outputs": [
        {
          "output_type": "stream",
          "name": "stdout",
          "text": [
            "Hi!\n",
            "Enter password: hhh\n",
            "I don't know what hhh means.\n"
          ]
        }
      ]
    },
    {
      "cell_type": "markdown",
      "metadata": {
        "id": "zF-H1AtZ5mVy"
      },
      "source": [
        "Note that the elif parts only run if nothing before them matches, and the else runs only when none of the elifs match."
      ]
    },
    {
      "cell_type": "code",
      "metadata": {
        "colab": {
          "base_uri": "https://localhost:8080/"
        },
        "id": "jgf8nbrz9-vr",
        "outputId": "8db9f867-8bfd-4894-9e79-c270fa6d04d4"
      },
      "source": [
        "# Nested If else\n",
        "\n",
        "age = 35\n",
        "\n",
        "if(age >= 11):\n",
        "  print('Your are eligible to see the Football match.')\n",
        "  \n",
        "  if((age <= 20) or (age >= 60)):\n",
        "    print('Ticket price is 12 US dollar.')\n",
        "  else:\n",
        "    print('Ticket price is 20 US dollar.')\n",
        "else:\n",
        "  print('Your\\'re not eligible to by a ticket.')"
      ],
      "execution_count": 8,
      "outputs": [
        {
          "output_type": "stream",
          "name": "stdout",
          "text": [
            "Your are eligible to see the Football match.\n",
            "Ticket price is 20 US dollar.\n"
          ]
        }
      ]
    },
    {
      "cell_type": "code",
      "metadata": {
        "colab": {
          "base_uri": "https://localhost:8080/"
        },
        "id": "uVc9wjMF-4b4",
        "outputId": "652f7cff-d9e9-40bb-8dd5-904e862d546e"
      },
      "source": [
        "# Correct the following error\n",
        "\n",
        "k = int(input(\"Enter marks\"))\n",
        "\n",
        "if(k > 69):\n",
        "  if(k > 89):\n",
        "    print('Grade A')\n",
        "  else:\n",
        "    if(k > 79):\n",
        "      print('Grade B')\n",
        "    else:\n",
        "      print('Grade C')\n",
        "else:\n",
        "  if(k > 59):\n",
        "    print('Grade D')\n",
        "  else:\n",
        "    print('Grade F')"
      ],
      "execution_count": 21,
      "outputs": [
        {
          "output_type": "stream",
          "name": "stdout",
          "text": [
            "Enter marks65\n",
            "Grade D\n"
          ]
        }
      ]
    },
    {
      "cell_type": "markdown",
      "metadata": {
        "id": "w3cUleAPA3ig"
      },
      "source": [
        "#Assignment\n",
        "Can you create a program to check whether a number is positive or negative or 0?\n",
        "\n",
        "To create this program, create a variable named number and assign a float value to it based on the user input. Then using a if statement, check if the number variable is positive or negative or 0.\n",
        "\n",
        "If number is positive, print \"The number is positive\"\n",
        "If number is 0, print \"The number is 0\"\n",
        "If number is negative, print \"The number is negative\""
      ]
    },
    {
      "cell_type": "markdown",
      "metadata": {
        "id": "Zy0o-fnqBQhK"
      },
      "source": [
        "#Loops\n",
        "## while loop: repeating an action until a condition is met\n",
        "\n",
        "## For: For iteration"
      ]
    },
    {
      "cell_type": "code",
      "metadata": {
        "colab": {
          "base_uri": "https://localhost:8080/"
        },
        "id": "2SB3L78gBrL9",
        "outputId": "f5223aef-fc84-406d-d49d-fe7203d12856"
      },
      "source": [
        "count = 0\n",
        "\n",
        "while count < 5:\n",
        "    print(\"I am inside a loop.\")\n",
        "    print(\"Looping is interesting.\")\n",
        "    #count = count +1\n",
        "    count += 1\n",
        "\n",
        "#Here the condition is never wrong so loop will run till system memory is full\n",
        "#Generally, we want programs that terminate at one point. For that, we can alter the value of count at every iteration like:"
      ],
      "execution_count": 24,
      "outputs": [
        {
          "output_type": "stream",
          "name": "stdout",
          "text": [
            "I am inside a loop.\n",
            "Looping is interesting.\n",
            "I am inside a loop.\n",
            "Looping is interesting.\n",
            "I am inside a loop.\n",
            "Looping is interesting.\n",
            "I am inside a loop.\n",
            "Looping is interesting.\n",
            "I am inside a loop.\n",
            "Looping is interesting.\n"
          ]
        }
      ]
    },
    {
      "cell_type": "code",
      "metadata": {
        "id": "nDu308aAEnpk"
      },
      "source": [
        ""
      ],
      "execution_count": null,
      "outputs": []
    },
    {
      "cell_type": "code",
      "metadata": {
        "colab": {
          "base_uri": "https://localhost:8080/"
        },
        "id": "eHnVU0ORC004",
        "outputId": "4ba33388-8683-46ef-a1a5-3816d226df54"
      },
      "source": [
        "offset = -6\n",
        "\n",
        "# Code the while loop\n",
        "while offset != 0 :  # not equal to\n",
        "    print(\"correcting...\")\n",
        "    if offset > 0 :\n",
        "        offset = offset - 1 # offset -= 1\n",
        "    else :\n",
        "        offset = offset + 1  # offset += 1\n",
        "    print(offset)"
      ],
      "execution_count": 25,
      "outputs": [
        {
          "output_type": "stream",
          "name": "stdout",
          "text": [
            "correcting...\n",
            "-5\n",
            "correcting...\n",
            "-4\n",
            "correcting...\n",
            "-3\n",
            "correcting...\n",
            "-2\n",
            "correcting...\n",
            "-1\n",
            "correcting...\n",
            "0\n"
          ]
        }
      ]
    },
    {
      "cell_type": "markdown",
      "metadata": {
        "id": "n7RmSrGHDQ9Z"
      },
      "source": [
        "# For loop"
      ]
    },
    {
      "cell_type": "code",
      "metadata": {
        "colab": {
          "base_uri": "https://localhost:8080/"
        },
        "id": "6B2cPs0xGahA",
        "outputId": "b7ec7750-0810-454a-fd5b-0d48112d11bb"
      },
      "source": [
        "for c in \"family\" :\n",
        "    print(c.capitalize())"
      ],
      "execution_count": 36,
      "outputs": [
        {
          "output_type": "stream",
          "name": "stdout",
          "text": [
            "F\n",
            "A\n",
            "M\n",
            "I\n",
            "L\n",
            "Y\n"
          ]
        }
      ]
    },
    {
      "cell_type": "code",
      "metadata": {
        "colab": {
          "base_uri": "https://localhost:8080/"
        },
        "id": "vKyAKteXDSaz",
        "outputId": "0d975abd-bc2b-42c5-dbc7-82ca36167606"
      },
      "source": [
        "areas = [11.25, 18.0, 20.0, 10.75, 9.50]\n",
        "\n",
        "# Code the for loop\n",
        "for area in areas :\n",
        "    print(area)\n"
      ],
      "execution_count": 26,
      "outputs": [
        {
          "output_type": "stream",
          "name": "stdout",
          "text": [
            "11.25\n",
            "18.0\n",
            "20.0\n",
            "10.75\n",
            "9.5\n"
          ]
        }
      ]
    },
    {
      "cell_type": "markdown",
      "metadata": {
        "id": "jCoYGUntEqKr"
      },
      "source": [
        "# range()\n",
        "\n",
        "It is a very popular and widely used function in Python, especially when you are working with predominantly for loops and sometimes with while loops. It returns a sequence of numbers and is immutable (whose value is fixed). The range function takes one or at most three arguments, namely the start and a stop value along with a step size.\n",
        "\n",
        "range(start_value, stop_value, step_size)\n",
        "\n",
        "## Does not support float"
      ]
    },
    {
      "cell_type": "code",
      "metadata": {
        "colab": {
          "base_uri": "https://localhost:8080/"
        },
        "id": "Cx2xi8WZEsDF",
        "outputId": "219dcfae-b53e-4f3e-8eb5-0e213b54ee84"
      },
      "source": [
        "for seq in range(10):\n",
        "    print(seq)"
      ],
      "execution_count": 29,
      "outputs": [
        {
          "output_type": "stream",
          "name": "stdout",
          "text": [
            "0\n",
            "1\n",
            "2\n",
            "3\n",
            "4\n",
            "5\n",
            "6\n",
            "7\n",
            "8\n",
            "9\n"
          ]
        }
      ]
    },
    {
      "cell_type": "code",
      "metadata": {
        "colab": {
          "base_uri": "https://localhost:8080/"
        },
        "id": "mcoX82QuFLEB",
        "outputId": "12b88af5-541e-458d-8999-9765eb04cf54"
      },
      "source": [
        "list(range(10))"
      ],
      "execution_count": 30,
      "outputs": [
        {
          "output_type": "execute_result",
          "data": {
            "text/plain": [
              "[0, 1, 2, 3, 4, 5, 6, 7, 8, 9]"
            ]
          },
          "metadata": {},
          "execution_count": 30
        }
      ]
    },
    {
      "cell_type": "code",
      "metadata": {
        "colab": {
          "base_uri": "https://localhost:8080/"
        },
        "id": "FYE3PToWFQR-",
        "outputId": "27e08ea7-1ede-4ac6-bb1c-a7e16ea7b0b5"
      },
      "source": [
        "for seq in range(5,10):\n",
        "    print(seq)"
      ],
      "execution_count": 31,
      "outputs": [
        {
          "output_type": "stream",
          "name": "stdout",
          "text": [
            "5\n",
            "6\n",
            "7\n",
            "8\n",
            "9\n"
          ]
        }
      ]
    },
    {
      "cell_type": "code",
      "metadata": {
        "colab": {
          "base_uri": "https://localhost:8080/"
        },
        "id": "Jz3aAxXqFUDI",
        "outputId": "89dc8763-215c-4ce0-80a0-8e992fd0a5da"
      },
      "source": [
        "# negative integer\n",
        "for seq in range(-5,0):\n",
        "    print(seq)"
      ],
      "execution_count": 32,
      "outputs": [
        {
          "output_type": "stream",
          "name": "stdout",
          "text": [
            "-5\n",
            "-4\n",
            "-3\n",
            "-2\n",
            "-1\n"
          ]
        }
      ]
    },
    {
      "cell_type": "code",
      "metadata": {
        "colab": {
          "base_uri": "https://localhost:8080/"
        },
        "id": "MQ0ez1axFZ7b",
        "outputId": "7a80d079-c038-46f7-c272-0e0da2169fea"
      },
      "source": [
        "# Taking steps\n",
        "for seq in range(50,1000,100):\n",
        "    print(seq)"
      ],
      "execution_count": 33,
      "outputs": [
        {
          "output_type": "stream",
          "name": "stdout",
          "text": [
            "50\n",
            "150\n",
            "250\n",
            "350\n",
            "450\n",
            "550\n",
            "650\n",
            "750\n",
            "850\n",
            "950\n"
          ]
        }
      ]
    },
    {
      "cell_type": "code",
      "metadata": {
        "colab": {
          "base_uri": "https://localhost:8080/"
        },
        "id": "2QYhIKA0FrzC",
        "outputId": "451e4722-ea2a-4c02-ad23-4857d4bc8126"
      },
      "source": [
        "list1 = [2,4,6,8,10,12,14,16,18,20]\n",
        "count = 0\n",
        "\n",
        "for i in range(len(list1)):\n",
        "    count = count + list1[i]\n",
        "    print(count)\n",
        "print('sum of the list:', count)"
      ],
      "execution_count": 34,
      "outputs": [
        {
          "output_type": "stream",
          "name": "stdout",
          "text": [
            "2\n",
            "6\n",
            "12\n",
            "20\n",
            "30\n",
            "42\n",
            "56\n",
            "72\n",
            "90\n",
            "110\n",
            "sum of the list: 110\n"
          ]
        }
      ]
    },
    {
      "cell_type": "markdown",
      "metadata": {
        "id": "pLmWjF3vDoF-"
      },
      "source": [
        "# Enumerate\n",
        "Often, when dealing with iterators, we also get a need to keep a count of iterations. Python eases the programmers’ task by providing a built-in function enumerate() for this task. \n",
        "Enumerate() method adds a counter to an iterable and returns it in a form of enumerating object. This enumerated object can then be used directly for loops or converted into a list of tuples using the list() method."
      ]
    },
    {
      "cell_type": "code",
      "metadata": {
        "colab": {
          "base_uri": "https://localhost:8080/"
        },
        "id": "7KZGN1ZBDU_i",
        "outputId": "0a29b20d-5031-42d1-dac0-f26799d429e1"
      },
      "source": [
        "areas = [11.25, 18.0, 20.0, 10.75, 9.50]\n",
        "\n",
        "# Code the for loop\n",
        "for index, area in enumerate(areas) :\n",
        "    print(\"room \" + str(index) + \": \" + str(area)) # String formatting"
      ],
      "execution_count": 27,
      "outputs": [
        {
          "output_type": "stream",
          "name": "stdout",
          "text": [
            "room 0: 11.25\n",
            "room 1: 18.0\n",
            "room 2: 20.0\n",
            "room 3: 10.75\n",
            "room 4: 9.5\n"
          ]
        }
      ]
    },
    {
      "cell_type": "code",
      "metadata": {
        "id": "ccHVfHiRGZAa"
      },
      "source": [
        ""
      ],
      "execution_count": null,
      "outputs": []
    },
    {
      "cell_type": "code",
      "metadata": {
        "colab": {
          "base_uri": "https://localhost:8080/"
        },
        "id": "8Zed6DyDGHUo",
        "outputId": "2a6ecd69-c5f3-44e2-a927-417a425276e5"
      },
      "source": [
        "fam = [1.73, 1.68, 1.71, 1.89]\n",
        "for index, height in enumerate(fam) :\n",
        "    print(\"index \" + str(index) + \": \" + str(height))"
      ],
      "execution_count": 35,
      "outputs": [
        {
          "output_type": "stream",
          "name": "stdout",
          "text": [
            "index 0: 1.73\n",
            "index 1: 1.68\n",
            "index 2: 1.71\n",
            "index 3: 1.89\n"
          ]
        }
      ]
    },
    {
      "cell_type": "code",
      "metadata": {
        "colab": {
          "base_uri": "https://localhost:8080/"
        },
        "id": "SiM9i5lPD3WU",
        "outputId": "9b1b7ce4-5b7d-48f2-c2a7-6131df0070b8"
      },
      "source": [
        "# Loop over a dictionary\n",
        "\n",
        "europe = {'spain':'madrid', 'france':'paris', 'germany':'bonn', \n",
        "          'norway':'oslo', 'italy':'rome', 'poland':'warsaw', 'australia':'vienna' }\n",
        "          \n",
        "# Iterate over europe\n",
        "for key, value in europe.items() :\n",
        "     print(\"the capital of \" + str(key) + \" is \" + str(value))\n"
      ],
      "execution_count": 28,
      "outputs": [
        {
          "output_type": "stream",
          "name": "stdout",
          "text": [
            "the capital of spain is madrid\n",
            "the capital of france is paris\n",
            "the capital of germany is bonn\n",
            "the capital of norway is oslo\n",
            "the capital of italy is rome\n",
            "the capital of poland is warsaw\n",
            "the capital of australia is vienna\n"
          ]
        }
      ]
    },
    {
      "cell_type": "code",
      "metadata": {
        "colab": {
          "base_uri": "https://localhost:8080/"
        },
        "id": "CXMwodHXHlD1",
        "outputId": "14a1c4c1-dba7-42db-a1fb-8e8e3924e95b"
      },
      "source": [
        "#Write a Python program to find those numbers which are divisible by 7 and multiple of 5, between 1500 and 2700 (both included).\n",
        "nl=[]\n",
        "for x in range(1500, 2701):\n",
        "    if (x%7==0) and (x%5==0):\n",
        "        nl.append(str(x))\n",
        "print ('\\n'.join(nl)). # print formatting .join. Look what happens if we use , instead of \"\\n\""
      ],
      "execution_count": 41,
      "outputs": [
        {
          "output_type": "stream",
          "name": "stdout",
          "text": [
            "1505\n",
            "1540\n",
            "1575\n",
            "1610\n",
            "1645\n",
            "1680\n",
            "1715\n",
            "1750\n",
            "1785\n",
            "1820\n",
            "1855\n",
            "1890\n",
            "1925\n",
            "1960\n",
            "1995\n",
            "2030\n",
            "2065\n",
            "2100\n",
            "2135\n",
            "2170\n",
            "2205\n",
            "2240\n",
            "2275\n",
            "2310\n",
            "2345\n",
            "2380\n",
            "2415\n",
            "2450\n",
            "2485\n",
            "2520\n",
            "2555\n",
            "2590\n",
            "2625\n",
            "2660\n",
            "2695\n"
          ]
        }
      ]
    },
    {
      "cell_type": "code",
      "metadata": {
        "id": "JZ9pfM97I64k"
      },
      "source": [
        ""
      ],
      "execution_count": null,
      "outputs": []
    },
    {
      "cell_type": "markdown",
      "metadata": {
        "id": "iiyNORE7Ilxf"
      },
      "source": [
        "Q1. Write program to print the following pattern.\n",
        "\n",
        "a)\n",
        "\n",
        "1\n",
        "\n",
        "1 2\n",
        "\n",
        "1 2 3\n",
        "\n",
        "1 2 3 4\n"
      ]
    },
    {
      "cell_type": "markdown",
      "metadata": {
        "id": "_CB4fSimJCj8"
      },
      "source": [
        "Q2. Find Error\n"
      ]
    },
    {
      "cell_type": "code",
      "metadata": {
        "colab": {
          "base_uri": "https://localhost:8080/",
          "height": 130
        },
        "id": "t5s9G5TkJLMR",
        "outputId": "75f06fc5-9344-4a71-ef2f-48f8ebcf725c"
      },
      "source": [
        "a = int(\"Enter any number\")\n",
        "for i in Range[2,6]\n",
        "    if a=i\n",
        "      print(“A”)\n",
        "    else\n",
        "      print(“B”)\n",
        "\n"
      ],
      "execution_count": 43,
      "outputs": [
        {
          "output_type": "error",
          "ename": "SyntaxError",
          "evalue": "ignored",
          "traceback": [
            "\u001b[0;36m  File \u001b[0;32m\"<ipython-input-43-082cf99f6037>\"\u001b[0;36m, line \u001b[0;32m2\u001b[0m\n\u001b[0;31m    for i in Range[2,6]\u001b[0m\n\u001b[0m                       ^\u001b[0m\n\u001b[0;31mSyntaxError\u001b[0m\u001b[0;31m:\u001b[0m invalid syntax\n"
          ]
        }
      ]
    },
    {
      "cell_type": "markdown",
      "metadata": {
        "id": "U7jYNWytPQct"
      },
      "source": [
        "#Functions\n",
        "\n",
        "You use functions in programming to bundle a set of instructions that you want to use repeatedly or that, because of their complexity, are better self-contained in a sub-program and called when needed. That means that a function is a piece of code written to carry out a specified task. To carry out that specific task, the function might or might not need multiple inputs. When the task is carried out, the function can or can not return one or more values.\n",
        "\n",
        "\n"
      ]
    },
    {
      "cell_type": "markdown",
      "metadata": {
        "id": "FOdH3__OQF9P"
      },
      "source": [
        "How To Define A Function: User-Defined Functions (UDFs)\n",
        "The four steps to defining a function in Python are the following:\n",
        "\n",
        "1. Use the keyword def to declare the function and follow this up with the function name.\n",
        "2. Add parameters to the function: they should be within the parentheses of the function. End your line with a colon.\n",
        "3. Add statements that the functions should execute.\n",
        "4. End your function with a return statement if the function should output something. Without the return statement, your function will return an object None."
      ]
    },
    {
      "cell_type": "code",
      "metadata": {
        "id": "9MHQvqboPqVf"
      },
      "source": [
        "# Define a function `plus()`\n",
        "def plus(a,b):\n",
        "  return(a + b)\n"
      ],
      "execution_count": 8,
      "outputs": []
    },
    {
      "cell_type": "code",
      "metadata": {
        "colab": {
          "base_uri": "https://localhost:8080/"
        },
        "id": "LKiXS8WlPsZI",
        "outputId": "595eae6b-44db-4195-ecd3-60d29e3758dc"
      },
      "source": [
        "plus(2,3)"
      ],
      "execution_count": 10,
      "outputs": [
        {
          "output_type": "stream",
          "name": "stdout",
          "text": [
            "5\n"
          ]
        }
      ]
    },
    {
      "cell_type": "code",
      "metadata": {
        "id": "yZPnxZhNQjFl"
      },
      "source": [
        "def hello():\n",
        "  name = str(input(\"Enter your name: \"))\n",
        "  if name:\n",
        "    print (\"Hello \" + str(name))\n",
        "  else:\n",
        "    print(\"Hello World\") \n",
        "  return \n",
        "  "
      ],
      "execution_count": 21,
      "outputs": []
    },
    {
      "cell_type": "code",
      "metadata": {
        "colab": {
          "base_uri": "https://localhost:8080/"
        },
        "id": "Pl29FphOQu18",
        "outputId": "a5061be6-31ae-4f5c-96cc-e3487f877a9e"
      },
      "source": [
        "hello()"
      ],
      "execution_count": 23,
      "outputs": [
        {
          "output_type": "stream",
          "name": "stdout",
          "text": [
            "Enter your name: \n",
            "Hello World\n"
          ]
        }
      ]
    },
    {
      "cell_type": "code",
      "metadata": {
        "colab": {
          "base_uri": "https://localhost:8080/"
        },
        "id": "60-2BOWtRhPX",
        "outputId": "3b3f4ba0-572e-4df3-cd01-ee94d02e25e9"
      },
      "source": [
        "# Define `plus()`\n",
        "def plus(a,b):\n",
        "  sum = a + b\n",
        "  return (sum, a)\n",
        "\n",
        "# Call `plus()` and unpack variables \n",
        "sum, a = plus(3,4)\n",
        "\n",
        "# Print `sum()`\n",
        "print(sum)"
      ],
      "execution_count": 37,
      "outputs": [
        {
          "output_type": "stream",
          "name": "stdout",
          "text": [
            "7\n"
          ]
        }
      ]
    },
    {
      "cell_type": "markdown",
      "metadata": {
        "id": "RsEhawPsNz2U"
      },
      "source": [
        "# Example of a function"
      ]
    },
    {
      "cell_type": "code",
      "metadata": {
        "colab": {
          "base_uri": "https://localhost:8080/"
        },
        "id": "QbKAPPipNiNI",
        "outputId": "564c134f-9e7d-4f0c-bf19-3c98ea0a59f9"
      },
      "source": [
        " #Calculating percentage of nucleotide\n",
        "\n",
        "data= (input(\"Please enter sequence in FASTA\\t\")).upper()\n",
        "#Example of data GATGGAACTTGACTACGTAAATT\n",
        "A= data.count(\"A\")\n",
        "T=data.count(\"T\")\n",
        "G=data.count(\"G\")\n",
        "C=data.count(\"C\")\n",
        "PA=A/len(data)*100\n",
        "PT=T/len(data)*100\n",
        "PG=G/len(data)*100\n",
        "PC=C/len(data)*100\n",
        "print(\"Percentage of ATGC are:\", PA, PT, PG, PC)\n",
        "\n",
        "print(\"Printing RNA from DNA\") \n",
        "\n"
      ],
      "execution_count": 43,
      "outputs": [
        {
          "output_type": "stream",
          "name": "stdout",
          "text": [
            "Please enter sequence in FASTA\tatgc\n",
            "Percentage of ATGC are: 25.0 25.0 25.0 25.0\n",
            "Printing RNA from DNA\n"
          ]
        }
      ]
    },
    {
      "cell_type": "markdown",
      "metadata": {
        "id": "JmRbML_yS9DH"
      },
      "source": [
        ""
      ]
    },
    {
      "cell_type": "code",
      "metadata": {
        "colab": {
          "base_uri": "https://localhost:8080/"
        },
        "id": "L9HbDpD4N-9q",
        "outputId": "4f0e5528-0b52-444a-95c3-1b879f49c322"
      },
      "source": [
        "data2 = input(\"Enter FASTA format sequence of DNA:\\t\")\n",
        "\n",
        "# Example of data2 GATGGAACTTGACTACGTAAATT\n",
        "t= data2.replace(\"T\", \"U\")\n",
        "print(t)\n",
        "\n"
      ],
      "execution_count": 2,
      "outputs": [
        {
          "output_type": "stream",
          "name": "stdout",
          "text": [
            "Enter FASTA format sequence of DNA:\tGATGGAACTTGACTACGTAAATT\n",
            "GAUGGAACUUGACUACGUAAAUU\n"
          ]
        }
      ]
    },
    {
      "cell_type": "code",
      "metadata": {
        "colab": {
          "base_uri": "https://localhost:8080/"
        },
        "id": "DAyi_Y16OD6R",
        "outputId": "f7eb0f91-482d-4405-da09-2cdff0ca4ddf"
      },
      "source": [
        "#Calculating the reverse complimentory of a sequence\n",
        "# example ATGCCCTG\n",
        "print(\"Calculating the reverse complementary of DNA\")\n",
        "Nucleotide = input(\"Enter Fasta\\t\")\n",
        "def compliment(Nucleotide):\n",
        "    comp = []\n",
        "    for i in Nucleotide:\n",
        "        if i == \"T\":\n",
        "            comp.append(\"A\")\n",
        "        elif i == \"A\":\n",
        "            comp.append(\"T\")\n",
        "        elif i == \"G\":\n",
        "            comp.append(\"C\")\n",
        "        elif i == \"C\":\n",
        "            comp.append(\"G\")\n",
        "\n",
        "    return ''.join(comp[::-1]) #'abcdefghijklm'[2:10:3]- start at 2, go upto 10, count by 3, Here it means end to beginning, counting down by 1\n",
        "\n",
        "\n",
        "print(compliment(Nucleotide))"
      ],
      "execution_count": 3,
      "outputs": [
        {
          "output_type": "stream",
          "name": "stdout",
          "text": [
            "Calculating the reverse complementary of DNA\n",
            "Enter Fasta\tATGCCCTG\n",
            "CAGGGCAT\n"
          ]
        }
      ]
    },
    {
      "cell_type": "markdown",
      "metadata": {
        "id": "NC8HgZRwOmsp"
      },
      "source": [
        "# BMI calculation"
      ]
    },
    {
      "cell_type": "markdown",
      "metadata": {
        "id": "h2OA_WP8S-Rs"
      },
      "source": [
        "#Assignment\n",
        "\n",
        "Take input weight and height and calculate BMI of the person and return their BMI and suggest if the person is overweight or underweight\n",
        " \n",
        "Remember to convert the height unit: example s = height/100\n",
        "\n",
        "Formula to calculate BMI is: (weight/s**2)\n",
        "## For example the result will be:\n",
        "\n",
        "##Note BMI in range (1, 19) is underweight, range (19, 25) is normal weight and >25 is overweight\n",
        "- What is your weight in Kg:\t60\n",
        "- What is your height in cm:\t154\n",
        "- BMI: 25\n",
        "- You are overwight\n"
      ]
    }
  ]
}